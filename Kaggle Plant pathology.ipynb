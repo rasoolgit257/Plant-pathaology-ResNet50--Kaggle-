{
 "cells": [
  {
   "cell_type": "code",
   "execution_count": null,
   "metadata": {},
   "outputs": [],
   "source": [
    "!pip install -q kaggle\n",
    "\n",
    "!mkdir -p ~/.kaggle\n",
    "\n",
    "!cp kaggle.json ~/.kaggle/\n",
    "\n",
    "!chmod 600 ~/.kaggle/kaggle.json\n",
    "\n",
    "!kaggle competitions download -c plant-pathology-2020-fgvc7"
   ]
  },
  {
   "cell_type": "code",
   "execution_count": null,
   "metadata": {},
   "outputs": [],
   "source": [
    "from keras.utils import np_utils\n",
    "from keras.models import Sequential\n",
    "from keras.layers import Convolution2D,Dense,MaxPool2D,Activation,Dropout,Flatten\n",
    "from keras.layers import GlobalAveragePooling2D\n",
    "from keras.optimizers import Adam\n",
    "from sklearn.model_selection import train_test_split\n",
    "from keras.layers.normalization import BatchNormalization\n",
    "import os \n",
    "import pandas as pd\n",
    "import plotly.graph_objs as go\n",
    "import matplotlib.ticker as ticker\n",
    "import matplotlib.pyplot as plt\n",
    "import seaborn as sns\n",
    "import plotly.express as px\n",
    "import cv2\n",
    "import numpy as np\n",
    "from sklearn.model_selection import train_test_split"
   ]
  },
  {
   "cell_type": "code",
   "execution_count": null,
   "metadata": {},
   "outputs": [],
   "source": [
    "os.listdir('../input/plant-pathology-2020-fgvc7')"
   ]
  },
  {
   "cell_type": "code",
   "execution_count": null,
   "metadata": {},
   "outputs": [],
   "source": [
    "train=pd.read_csv(\"../input/plant-pathology-2020-fgvc7/train.csv\")\n",
    "test=pd.read_csv(\"../input/plant-pathology-2020-fgvc7/test.csv\")\n",
    "train['image_id']=train['image_id']+'.jpg'\n",
    "test['image_id']=test['image_id']+'.jpg'\n",
    "train.head()"
   ]
  },
  {
   "cell_type": "code",
   "execution_count": null,
   "metadata": {},
   "outputs": [],
   "source": [
    "fig,ax=plt.subplots(2,2,figsize=(20,20))\n",
    "sns.barplot(y=train.healthy.value_counts(),x=train.healthy.value_counts().index,ax=ax[0,0])\n",
    "ax[0,0].set_title(\"Value count for healthy\",size=20)\n",
    "ax[0,0].set_xlabel('healthy',size=18)\n",
    "ax[0,0].set_ylabel('',size=18)\n",
    "\n",
    "sns.barplot(y=train.multiple_diseases.value_counts(),x=train.multiple_diseases.value_counts().index,ax=ax[0,1])\n",
    "ax[0,1].set_title(\"Value count for multiple_diseases\",size=20)\n",
    "ax[0,1].set_xlabel('multiple_diseases',size=18)\n",
    "ax[0,1].set_ylabel('',size=18)\n",
    "\n",
    "sns.barplot(y=train.rust.value_counts(),x=train.rust.value_counts().index,ax=ax[1,0])\n",
    "ax[1,0].set_title(\"Value count for rust\",size=20)\n",
    "ax[1,0].set_xlabel('rust',size=18)\n",
    "ax[1,0].set_ylabel('',size=18)\n",
    "\n",
    "sns.barplot(y=train.scab.value_counts(),x=train.scab.value_counts().index,ax=ax[1,1])\n",
    "ax[1,1].set_title(\"Value count for scab\",size=20)\n",
    "ax[1,1].set_xlabel('healthy',size=18)\n",
    "ax[1,1].set_ylabel('',size=18)"
   ]
  },
  {
   "cell_type": "markdown",
   "metadata": {},
   "source": [
    "## Procedure-1(.fit() method)"
   ]
  },
  {
   "cell_type": "code",
   "execution_count": null,
   "metadata": {},
   "outputs": [],
   "source": [
    "# For trainind data\n",
    "img=[]\n",
    "filename=train.image_id\n",
    "for file in filename:\n",
    "    image=cv2.imread(\"../input/plant-pathology-2020-fgvc7/images/\"+file)\n",
    "    res=cv2.resize(image,(256,256))\n",
    "    img.append(res)\n",
    "train=np.array(img)\n",
    "\n",
    "print(train.shape)\n",
    "#------------------------------------------------------------\n",
    "img=[]\n",
    "filename=test.image_id\n",
    "for file in filename:\n",
    "    image=cv2.imread(\"../input/plant-pathology-2020-fgvc7/images/\"+file)\n",
    "    res=cv2.resize(image,(256,256))\n",
    "    img.append(res)\n",
    "test=np.array(img)\n",
    "\n",
    "print(test.shape)\n",
    "\n",
    "#-------------------------------------------------------------\n",
    "\n",
    "train=img.copy()\n",
    "train_label=train.loc[:,'healthy':'scab']\n",
    "train_img=np.array(train, dtype=\"float\")/255.0\n",
    "test_img=np.array(test_img, dtype=\"float\")/255.0\n",
    "(trainX, testX, trainY, testY) = train_test_split(train_img,train_label, test_size=0.2, random_state=42)\n",
    "\n",
    "#----------------------------------------------------------------\n",
    "from tensorflow.keras.preprocessing.image import ImageDataGenerator\n",
    "train_datagen = ImageDataGenerator(\n",
    "        featurewise_center=False,  # set input mean to 0 over the dataset\n",
    "        samplewise_center=False,  # set each sample mean to 0\n",
    "        featurewise_std_normalization=False,  # divide inputs by std of the dataset\n",
    "        samplewise_std_normalization=False,  # divide each input by its std\n",
    "        zca_whitening=False,  # apply ZCA whitening\n",
    "        rotation_range=20,  # randomly rotate images in the range (degrees, 0 to 180)\n",
    "        zoom_range = 0.2, # Randomly zoom image \n",
    "        width_shift_range=0.2,  # randomly shift images horizontally (fraction of total width)\n",
    "        height_shift_range=0.2,  # randomly shift images vertically (fraction of total height)\n",
    "        horizontal_flip=True,  # randomly flip images\n",
    "        vertical_flip=False,\n",
    "        shear_range=0.2,\n",
    "        fill_mode=\"nearest\")  # randomly flip images\n",
    "train_datagen.fit(trainX)\n",
    "\n",
    "#---------------------------------------------------------------\n",
    "valid_datagen = ImageDataGenerator(\n",
    "        featurewise_center=False,  # set input mean to 0 over the dataset\n",
    "        samplewise_center=False,  # set each sample mean to 0\n",
    "        featurewise_std_normalization=False,  # divide inputs by std of the dataset\n",
    "        samplewise_std_normalization=False,  # divide each input by its std\n",
    "        zca_whitening=False,  # apply ZCA whitening\n",
    "        rotation_range=20,  # randomly rotate images in the range (degrees, 0 to 180)\n",
    "        zoom_range = 0.2, # Randomly zoom image \n",
    "        width_shift_range=0.2,  # randomly shift images horizontally (fraction of total width)\n",
    "        height_shift_range=0.2,  # randomly shift images vertically (fraction of total height)\n",
    "        horizontal_flip=True,  # randomly flip images\n",
    "        vertical_flip=False,\n",
    "        shear_range=0.2,\n",
    "        fill_mode=\"nearest\")  # randomly flip images\n",
    "valid_datagen.fit(testX)\n",
    "#------------------------------------------------------------------------"
   ]
  },
  {
   "cell_type": "code",
   "execution_count": null,
   "metadata": {},
   "outputs": [],
   "source": []
  },
  {
   "cell_type": "markdown",
   "metadata": {},
   "source": [
    "## Procedure-2 (.flow from data frame method)"
   ]
  },
  {
   "cell_type": "code",
   "execution_count": null,
   "metadata": {},
   "outputs": [],
   "source": [
    "train_labels = np.float32(train.loc[:, 'healthy':'scab'].values)\n",
    "\n",
    "train, val = train_test_split(train, test_size = 0.15)\n"
   ]
  },
  {
   "cell_type": "code",
   "execution_count": null,
   "metadata": {},
   "outputs": [],
   "source": [
    "from keras.preprocessing.image import ImageDataGenerator\n",
    "train_datagen = ImageDataGenerator( horizontal_flip=True,\n",
    "    vertical_flip=True,\n",
    "    rotation_range=10,\n",
    "    width_shift_range=0.1,\n",
    "    height_shift_range=0.1,\n",
    "    zoom_range=.1,\n",
    "    fill_mode='nearest',\n",
    "    shear_range=0.1,\n",
    "    rescale=1/255,\n",
    "    brightness_range=[0.5, 1.5])\n"
   ]
  },
  {
   "cell_type": "code",
   "execution_count": null,
   "metadata": {},
   "outputs": [],
   "source": [
    "train_generator=train_datagen.flow_from_dataframe(train,\n",
    "                                                  directory='/kaggle/input/plant-pathology-2020-fgvc7/images/',\n",
    "                                                    target_size=(256,256),\n",
    "                                                    x_col=\"image_id\",\n",
    "                                                    y_col=['healthy','multiple_diseases','rust','scab'],\n",
    "                                                    class_mode='raw', # when y have more than 2 columns\n",
    "                                                    shuffle=False,\n",
    "                                                    subset='training',\n",
    "                                                    batch_size=16)"
   ]
  },
  {
   "cell_type": "code",
   "execution_count": null,
   "metadata": {},
   "outputs": [],
   "source": [
    "val_generator=train_datagen.flow_from_dataframe(val,\n",
    "                                                directory='/kaggle/input/plant-pathology-2020-fgvc7/images/',\n",
    "                                                target_size=(256,256),\n",
    "                                                x_col=\"image_id\",\n",
    "                                                y_col=['healthy','multiple_diseases','rust','scab'],\n",
    "                                                class_mode='raw',\n",
    "                                                shuffle=False,\n",
    "                                                batch_size=16,"
   ]
  },
  {
   "cell_type": "code",
   "execution_count": null,
   "metadata": {},
   "outputs": [],
   "source": [
    "test_generator=train_datagen.flow_from_dataframe(test,directory='/kaggle/input/plant-pathology-2020-fgvc7/images/',\n",
    "                                                      target_size=(256,256),\n",
    "                                                      x_col=\"image_id\",\n",
    "                                                      y_col=None,\n",
    "                                                      class_mode=None,\n",
    "                                                      shuffle=False,\n",
    "                                                      batch_size=16)"
   ]
  },
  {
   "cell_type": "markdown",
   "metadata": {},
   "source": [
    "## transfer learning-resnet50"
   ]
  },
  {
   "cell_type": "code",
   "execution_count": null,
   "metadata": {},
   "outputs": [],
   "source": [
    "from keras.applications.resnet50 import ResNet50\n",
    "from keras.models import Model\n",
    "import keras\n",
    "from keras import optimizers\n",
    "model_finetuned = ResNet50(include_top=False, weights='imagenet', input_shape=(256,256,3))\n",
    "x = model_finetuned.output\n",
    "x = GlobalAveragePooling2D()(x)\n",
    "x = Dense(128, activation=\"relu\")(x)\n",
    "x = Dense(64, activation=\"relu\")(x)\n",
    "predictions = Dense(4, activation=\"softmax\")(x)\n",
    "model_finetuned = Model(inputs=model_finetuned.input, outputs=predictions)\n",
    "model_finetuned.compile(optimizer='adam',\n",
    "                  loss = 'categorical_crossentropy',\n",
    "                  metrics=['accuracy'])\n",
    "model_finetuned.summary()"
   ]
  },
  {
   "cell_type": "code",
   "execution_count": null,
   "metadata": {},
   "outputs": [],
   "source": [
    "from keras.callbacks import ReduceLROnPlateau"
   ]
  },
  {
   "cell_type": "code",
   "execution_count": null,
   "metadata": {},
   "outputs": [],
   "source": [
    "history_1 = model_finetuned.fit_generator(train_generator,                                    \n",
    "                                  steps_per_epoch=100, \n",
    "                                  epochs=20,validation_data=val_generator,validation_steps=90\n",
    "                                  ,verbose=1,callbacks=[ReduceLROnPlateau(monitor='val_loss', factor=0.3,patience=3, min_lr=0.000001)])"
   ]
  },
  {
   "cell_type": "code",
   "execution_count": null,
   "metadata": {},
   "outputs": [],
   "source": [
    "fig = go.Figure(data=[\n",
    "    go.Line(name='train_acc', x=history_1.epoch, y=history_1.history['accuracy']),\n",
    "    go.Line(name='Val_acc', x=history_1.epoch, y=history_1.history['val_accuracy'])])\n",
    "\n",
    "fig.update_layout(\n",
    "    title=\"Accuracy\",\n",
    "    xaxis_title=\"epoch\",\n",
    "    yaxis_title=\"accuracy\",\n",
    "    font=dict(\n",
    "        family=\"Courier New, monospace\",\n",
    "        size=18,\n",
    "        color=\"#7f7f7f\"\n",
    "    ))\n",
    "fig"
   ]
  },
  {
   "cell_type": "markdown",
   "metadata": {},
   "source": [
    "## Both methods gives same result"
   ]
  },
  {
   "cell_type": "code",
   "execution_count": null,
   "metadata": {},
   "outputs": [],
   "source": []
  },
  {
   "cell_type": "code",
   "execution_count": null,
   "metadata": {},
   "outputs": [],
   "source": [
    "SUB_PATH = \"../input/plant-pathology-2020-fgvc7/sample_submission.csv\"\n",
    "\n",
    "sub = pd.read_csv(SUB_PATH)\n",
    "probs_RESNET = model_finetuned.predict(test_generator, verbose=1)\n",
    "sub.loc[:, 'healthy':] = probs_RESNET\n",
    "sub.to_csv('submission_RESNET.csv', index=False)\n",
    "sub.head()"
   ]
  }
 ],
 "metadata": {
  "kernelspec": {
   "display_name": "Python 3",
   "language": "python",
   "name": "python3"
  },
  "language_info": {
   "codemirror_mode": {
    "name": "ipython",
    "version": 3
   },
   "file_extension": ".py",
   "mimetype": "text/x-python",
   "name": "python",
   "nbconvert_exporter": "python",
   "pygments_lexer": "ipython3",
   "version": "3.7.6"
  }
 },
 "nbformat": 4,
 "nbformat_minor": 4
}
